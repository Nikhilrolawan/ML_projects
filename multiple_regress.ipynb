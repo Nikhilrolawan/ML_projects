{
 "cells": [
  {
   "cell_type": "code",
   "execution_count": 1,
   "id": "9a7e79be-c4bd-4192-bd96-b9b7898fd06e",
   "metadata": {
    "editable": true,
    "slideshow": {
     "slide_type": ""
    },
    "tags": []
   },
   "outputs": [],
   "source": [
    "import pandas as pd\n",
    "import numpy as np\n",
    "import matplotlib.pyplot as plt"
   ]
  },
  {
   "cell_type": "code",
   "execution_count": 2,
   "id": "2b6f9ffb-661e-4d7c-8387-973f767c6c66",
   "metadata": {
    "editable": true,
    "slideshow": {
     "slide_type": ""
    },
    "tags": []
   },
   "outputs": [],
   "source": [
    "\n",
    "# Size (sqft) \tNumber of Bedrooms\tNumber of floors\tAge of Home\t    Price (1000s dollars)\n",
    "#    2104\t              5\t                  1\t                 45\t             460\n",
    "#    1416\t              3                   2         \t     40\t             232\n",
    "#    852\t              2\t                  1\t                 35\t             178"
   ]
  },
  {
   "cell_type": "code",
   "execution_count": 3,
   "id": "df528c8f-12ab-4ca0-a6ca-80926f3f25dc",
   "metadata": {},
   "outputs": [],
   "source": [
    "X_train = np.array([[2104, 5, 1, 45],[1416, 3, 2, 40],[852, 2, 1, 35]])\n",
    "y_train = np.array([460, 232, 178])\n",
    "m,n=X_train.shape"
   ]
  },
  {
   "cell_type": "code",
   "execution_count": 4,
   "id": "21a024ce-10c4-4253-a2d5-4e9d0a59658f",
   "metadata": {},
   "outputs": [
    {
     "data": {
      "text/plain": [
       "375.5"
      ]
     },
     "execution_count": 4,
     "metadata": {},
     "output_type": "execute_result"
    }
   ],
   "source": [
    "X_mean=np.mean(X_train)\n",
    "X_mean"
   ]
  },
  {
   "cell_type": "code",
   "execution_count": 5,
   "id": "b6cafa05-e168-4030-8752-c67e0c2aaa3c",
   "metadata": {},
   "outputs": [
    {
     "data": {
      "text/plain": [
       "675.195465525848"
      ]
     },
     "execution_count": 5,
     "metadata": {},
     "output_type": "execute_result"
    }
   ],
   "source": [
    "X_sigma=np.std(X_train)\n",
    "X_sigma"
   ]
  },
  {
   "cell_type": "code",
   "execution_count": 6,
   "id": "ef1d8f9c-4b9c-4c80-a692-83be44050ca3",
   "metadata": {},
   "outputs": [],
   "source": [
    "x_normalised=(X_train-X_mean)/X_sigma\n",
    "y_normalised=(y_train-np.mean(y_train))/(np.std(y_train))"
   ]
  },
  {
   "cell_type": "code",
   "execution_count": 7,
   "id": "207ef66b-a9e6-4c47-a8f7-d751e36047db",
   "metadata": {},
   "outputs": [],
   "source": [
    "# plt.scatter(X_train,y_train)\n",
    "# plt.show()\n",
    "# w=np.zeros(4)\n",
    "b_init = 785.1811367994083\n",
    "w_init = np.array([ 0.39133535, 18.75376741, -53.36032453, -26.42131618])\n",
    "w=np.zeros(n)\n",
    "b=0."
   ]
  },
  {
   "cell_type": "code",
   "execution_count": 8,
   "id": "97d5523f-baee-4604-8e45-a677ce1eb248",
   "metadata": {},
   "outputs": [
    {
     "name": "stdout",
     "output_type": "stream",
     "text": [
      "dj_db at initial w,b: [1310.31842916 -450.97542295 -453.39724089 -406.54766355]\n",
      "dj_dw at initial w,b: \n",
      " 818.1698637666497\n"
     ]
    }
   ],
   "source": [
    "# j=1/2m(sum(y_pred-y_act)**2 --> cost\n",
    "\n",
    "# j=1/2m(w*x_train+b-y_act)^2\n",
    "# dj_dw=(1/m)*x_train(w*x+b-y)\n",
    "# dj_db=(1/m)(w*x+b-y)\n",
    "def compute_gradient(x,y,w,b):\n",
    "    m,n=x.shape\n",
    "    dj_dw=np.zeros(n)\n",
    "    dj_db=0.0\n",
    "    for i in range(m):\n",
    "        error=(np.dot(x[i],w)+b)-y[i]\n",
    "        for j in range (n):\n",
    "            dj_dw[j]=dj_dw[j]+error*x[i,j]        \n",
    "        dj_db=dj_db+error\n",
    "    dj_dw=dj_dw/m\n",
    "    dj_db=dj_db/m\n",
    "    return dj_dw,dj_db\n",
    "    #Compute and display gradient \n",
    "tmp_dj_db, tmp_dj_dw = compute_gradient(x_normalised, y_normalised, w_init, b_init)\n",
    "print(f'dj_db at initial w,b: {tmp_dj_db}')\n",
    "print(f'dj_dw at initial w,b: \\n {tmp_dj_dw}')"
   ]
  },
  {
   "cell_type": "code",
   "execution_count": 9,
   "id": "2db800de-f7ec-4071-8468-f6d608f69d92",
   "metadata": {},
   "outputs": [],
   "source": [
    "def compute_cost(x_normalised,y_normalised,w,b):\n",
    "    m=x_normalised.shape[0]\n",
    "    cost=0.0\n",
    "    for i in range(m):\n",
    "        f_wb=np.dot(x_normalised[i],w)\n",
    "        cost=cost+(f_wb+b-y_normalised[i])**2\n",
    "    return cost/(2*m)"
   ]
  },
  {
   "cell_type": "code",
   "execution_count": 10,
   "id": "93919814-1c51-46ae-9b71-a95d01ba2326",
   "metadata": {},
   "outputs": [],
   "source": [
    "def gradient_descent(x,y,w,b,a,compute_gradient,iterations):\n",
    "    # temp_w=w-a*dj_dw , a= learning rate\n",
    "    # temp_b=b-a*dj_db\n",
    "    # initial_w=0\n",
    "    # initial_b=0\n",
    "    cost_hist=[]\n",
    "    # m=np.size(x_train)\n",
    "    for i in range(iterations):     \n",
    "        dj_dw,dj_db=compute_gradient(x,y,w,b)\n",
    "        w=w-a*dj_dw\n",
    "        b=b-a*dj_db\n",
    "        if i<10000:\n",
    "            cost_hist.append(compute_cost(x,y,w,b))\n",
    "        if i%100==0:\n",
    "            print(\"iterations\",i,\"  cost\",cost_hist[i])    \n",
    "    return w,b,cost_hist"
   ]
  },
  {
   "cell_type": "code",
   "execution_count": 11,
   "id": "3b3e14fa-fd38-4197-bb99-81016e540394",
   "metadata": {},
   "outputs": [
    {
     "name": "stdout",
     "output_type": "stream",
     "text": [
      "iterations 0   cost 0.45532634710464065\n",
      "iterations 100   cost 0.04389724242709412\n",
      "iterations 200   cost 0.03972499187962585\n",
      "iterations 300   cost 0.039681223278879324\n",
      "iterations 400   cost 0.03968032260402606\n",
      "****************************************************************************************\n",
      "[1.25954978 0.60651163 0.58906617 0.55608995]    -1.080986655911782\n"
     ]
    }
   ],
   "source": [
    "iterations=500\n",
    "w_final,b_final,cost_history=gradient_descent(x_normalised,y_normalised,w,b,0.1,compute_gradient,iterations)\n",
    "print(\"****************************************************************************************\")\n",
    "print(w_final,\"  \",b_final)"
   ]
  },
  {
   "cell_type": "code",
   "execution_count": 12,
   "id": "6835eaf6-5657-496e-a586-1b79955890df",
   "metadata": {},
   "outputs": [
    {
     "data": {
      "text/plain": [
       "array([ 1.2117216 , -0.07675662, -1.13476447])"
      ]
     },
     "execution_count": 12,
     "metadata": {},
     "output_type": "execute_result"
    }
   ],
   "source": [
    "def predictions(x_normalised,w,b):\n",
    "    y_pred=np.dot(x_normalised,w)+b\n",
    "    return y_pred\n",
    "prediction=predictions(x_normalised,w_final,b_final)\n",
    "prediction"
   ]
  },
  {
   "cell_type": "code",
   "execution_count": 13,
   "id": "87557f7e-f02d-4c89-85b7-df9eb18d6033",
   "metadata": {},
   "outputs": [
    {
     "data": {
      "image/png": "[encoded data removed]",
      "text/plain": [
       "<Figure size 640x480 with 1 Axes>"
      ]
     },
     "metadata": {},
     "output_type": "display_data"
    }
   ],
   "source": [
    "# plt.plot(y_train,prediction,label='our prediction')\n",
    "# # plt.scatter(X_train,y_train,label='training data',color='red')\n",
    "# plt.legend()\n",
    "# plt.show()\n",
    "# iterations=1000\n",
    "range=np.arange(0,iterations)\n",
    "plt.plot(range,cost_history)\n",
    "plt.xlabel(\"iterations\")\n",
    "plt.ylabel(\"cost\")\n",
    "plt.show()"
   ]
  },
  {
   "cell_type": "code",
   "execution_count": 14,
   "id": "f7015371-6f17-40e5-8eb4-c495544c498e",
   "metadata": {},
   "outputs": [
    {
     "data": {
      "text/plain": [
       "0.7348502252310245"
      ]
     },
     "execution_count": 14,
     "metadata": {},
     "output_type": "execute_result"
    }
   ],
   "source": [
    "error=(np.sum(np.abs(prediction-y_normalised)))/(X_train.shape[0])\n",
    "accuracy=1-error\n",
    "accuracy\n",
    "# error\n",
    "\n",
    "# print(\"accuracy\",(1-error)*100)"
   ]
  },
  {
   "cell_type": "code",
   "execution_count": null,
   "id": "b7c6ae16-c804-432f-9cfd-50993b1acc8b",
   "metadata": {},
   "outputs": [],
   "source": []
  }
 ],
 "metadata": {
  "kernelspec": {
   "display_name": "Python 3 (ipykernel)",
   "language": "python",
   "name": "python3"
  },
  "language_info": {
   "codemirror_mode": {
    "name": "ipython",
    "version": 3
   },
   "file_extension": ".py",
   "mimetype": "text/x-python",
   "name": "python",
   "nbconvert_exporter": "python",
   "pygments_lexer": "ipython3",
   "version": "3.11.3"
  }
 },
 "nbformat": 4,
 "nbformat_minor": 5
}
